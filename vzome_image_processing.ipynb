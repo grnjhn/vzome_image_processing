{
 "cells": [
  {
   "cell_type": "code",
   "execution_count": 4,
   "id": "7f77f376",
   "metadata": {},
   "outputs": [
    {
     "name": "stdout",
     "output_type": "stream",
     "text": [
      "Collecting opencv-python\n",
      "  Downloading opencv_python-4.7.0.68-cp37-abi3-macosx_10_13_x86_64.whl (51.7 MB)\n",
      "\u001b[2K     \u001b[90m━━━━━━━━━━━━━━━━━━━━━━━━━━━━━━━━━━━━━━━━\u001b[0m \u001b[32m51.7/51.7 MB\u001b[0m \u001b[31m28.5 MB/s\u001b[0m eta \u001b[36m0:00:00\u001b[0m00:01\u001b[0m00:01\u001b[0m\n",
      "\u001b[?25hRequirement already satisfied: numpy>=1.17.0 in /Users/linusschoch/opt/anaconda3/lib/python3.8/site-packages (from opencv-python) (1.22.0)\n",
      "Installing collected packages: opencv-python\n",
      "Successfully installed opencv-python-4.7.0.68\n",
      "Note: you may need to restart the kernel to use updated packages.\n"
     ]
    }
   ],
   "source": [
    "pip install opencv-python"
   ]
  },
  {
   "cell_type": "code",
   "execution_count": 1,
   "id": "291f3199",
   "metadata": {},
   "outputs": [
    {
     "name": "stderr",
     "output_type": "stream",
     "text": [
      "[ WARN:0@0.010] global loadsave.cpp:244 findDecoder imread_('image.png'): can't open/read file: check file path/integrity\n"
     ]
    }
   ],
   "source": [
    "#import the necessary libraries \n",
    "\n",
    "import cv2 \n",
    "import numpy as np \n",
    "  \n",
    "# Read the image \n",
    "image = cv2.imread('image.png') \n",
    "  \n"
   ]
  },
  {
   "cell_type": "code",
   "execution_count": null,
   "id": "5e5def42",
   "metadata": {},
   "outputs": [],
   "source": [
    "# Rotation Angle along with scaling \n",
    "M = cv2.getRotationMatrix2D((image.shape[1] / 2, image.shape[0] / 2), 15, 1.0) \n",
    "  \n",
    "# Perform rotation \n",
    "rotated_image = cv2.warpAffine(image, M, (image.shape[1], image.shape[0])) \n",
    "  \n",
    "# Show the result \n",
    "#cv2.imshow(\""
   ]
  }
 ],
 "metadata": {
  "kernelspec": {
   "display_name": "Python 3 (ipykernel)",
   "language": "python",
   "name": "python3"
  },
  "language_info": {
   "codemirror_mode": {
    "name": "ipython",
    "version": 3
   },
   "file_extension": ".py",
   "mimetype": "text/x-python",
   "name": "python",
   "nbconvert_exporter": "python",
   "pygments_lexer": "ipython3",
   "version": "3.8.5"
  }
 },
 "nbformat": 4,
 "nbformat_minor": 5
}
